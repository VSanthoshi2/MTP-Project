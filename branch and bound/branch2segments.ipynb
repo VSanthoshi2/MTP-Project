{
 "cells": [
  {
   "cell_type": "code",
   "execution_count": 1,
   "metadata": {},
   "outputs": [],
   "source": [
    "using IntervalArithmetic,IntervalBoxes,IntervalArithmetic.Symbols,Plots\n",
    "using Statistics"
   ]
  },
  {
   "cell_type": "code",
   "execution_count": 3,
   "metadata": {},
   "outputs": [
    {
     "data": {
      "text/plain": [
       "calculate_expression (generic function with 1 method)"
      ]
     },
     "metadata": {},
     "output_type": "display_data"
    }
   ],
   "source": [
    "x1 = 1/3\n",
    "x2 = 2/3\n",
    "h = 1.0\n",
    "g = 9.8\n",
    "function calculate_expression(y1::Interval{T}, y2::Interval{T}) where T\n",
    "    term1 = sqrt(x1^2 + (y1 - h)^2) / sqrt(2 * g * (h - y1))\n",
    "    term2 = sqrt((x1 - x2)^2 + (y1 - y2)^2) / (sqrt(2 * g * (h - y1)) + sqrt(2 * g * (h - y2)))\n",
    "    term3 = sqrt(y2^2 + (x2 - h)^2) / (sqrt(2 * g * (h - y2)) + sqrt(2 * g * h))\n",
    "\n",
    "    return 2*(term1 + term2 + term3)\n",
    "end"
   ]
  },
  {
   "cell_type": "code",
   "execution_count": 6,
   "metadata": {},
   "outputs": [
    {
     "data": {
      "text/plain": [
       "calculate_branch_bound (generic function with 1 method)"
      ]
     },
     "metadata": {},
     "output_type": "display_data"
    }
   ],
   "source": [
    "\n",
    "# Define the branch-and-bound function\n",
    "function calculate_branch_bound(f, Y1::Interval{T}, Y2::Interval{T}, N) where T\n",
    "    interval_lists = [[Y1, Y2]]\n",
    "    upper_bound = sup(f(Y1..., Y2...))\n",
    "    upper_bounds = [upper_bound]\n",
    "    working_list = [(Y1..., Y2...)]\n",
    "\n",
    "    for i in 1:N\n",
    "        if isempty(working_list)\n",
    "            break\n",
    "        end\n",
    "        \n",
    "        # Pop the first interval pair\n",
    "        (current_Y1, current_Y2) = popfirst!(working_list)\n",
    "\n",
    "        # Update the upper bound\n",
    "        upper_bound = min(upper_bound, sup(f(interval(mid(current_Y1))..., interval(mid(current_Y2))...)))\n",
    "        # Check if we can bisect\n",
    "        if inf(f(current_Y1..., current_Y2...)) <= upper_bound\n",
    "            if(diam(current_Y1)>= diam(current_Y2))\n",
    "                if(diam(current_Y1)>=0.0001)\n",
    "                    S = bisect(current_Y1)\n",
    "                    push!(working_list, (S[1],current_Y2), (S[2],current_Y2))\n",
    "                else\n",
    "                    push!(working_list,(current_Y1,current_Y2))\n",
    "                end\n",
    "            else\n",
    "                if(diam(current_Y2)>=0.0001)\n",
    "                    S1 = bisect(current_Y2)\n",
    "                    push!(working_list, (current_Y1,S1[1]), (current_Y1,S1[2]))\n",
    "                else\n",
    "                    push!(working_list,(current_Y1,current_Y2))\n",
    "                end\n",
    "            end\n",
    "        end\n",
    "\n",
    "        # Store the current intervals and upper bounds\n",
    "        #push!(interval_lists, copy(working_list))\n",
    "        push!(upper_bounds, upper_bound)\n",
    "    end\n",
    "\n",
    "    return working_list, upper_bounds\n",
    "end\n",
    "\n"
   ]
  },
  {
   "cell_type": "code",
   "execution_count": 7,
   "metadata": {},
   "outputs": [
    {
     "data": {
      "text/plain": [
       "(Tuple{Interval{Float64}, Interval{Float64}}[([0.365234, 0.367188]_com, [0.154296, 0.156251]_com), ([0.367187, 0.369141]_com, [0.140624, 0.142579]_com), ([0.367187, 0.369141]_com, [0.142578, 0.144532]_com), ([0.36914, 0.371094]_com, [0.140624, 0.142579]_com), ([0.36914, 0.371094]_com, [0.142578, 0.144532]_com), ([0.367187, 0.369141]_com, [0.144531, 0.146485]_com), ([0.367187, 0.369141]_com, [0.146484, 0.148438]_com), ([0.36914, 0.371094]_com, [0.144531, 0.146485]_com), ([0.36914, 0.371094]_com, [0.146484, 0.148438]_com), ([0.371093, 0.373047]_com, [0.140624, 0.142579]_com)  …  ([0.365234, 0.366211]_com, [0.148437, 0.150391]_com), ([0.36621, 0.367188]_com, [0.148437, 0.150391]_com), ([0.365234, 0.366211]_com, [0.15039, 0.152344]_com), ([0.36621, 0.367188]_com, [0.15039, 0.152344]_com), ([0.363281, 0.364258]_com, [0.152343, 0.154297]_com), ([0.364257, 0.365235]_com, [0.152343, 0.154297]_com), ([0.363281, 0.364258]_com, [0.154296, 0.156251]_com), ([0.364257, 0.365235]_com, [0.154296, 0.156251]_com), ([0.365234, 0.366211]_com, [0.152343, 0.154297]_com), ([0.36621, 0.367188]_com, [0.152343, 0.154297]_com)], [Inf, 0.6494201061186272, 0.6494201061186272, 0.6494201061186272, 0.6159429616382899, 0.6159429616382899, 0.6159429616382899, 0.6159429616382899, 0.6159429616382899, 0.602715853024481  …  0.5966720115115687, 0.5966720115115687, 0.5966720115115687, 0.5966720115115687, 0.5966720115115687, 0.5966720115115687, 0.5966720115115687, 0.5966720115115687, 0.5966720115115687, 0.5966720115115687])"
      ]
     },
     "metadata": {},
     "output_type": "display_data"
    }
   ],
   "source": [
    "N = 10000\n",
    "y1_interval = interval(0.0, 1)\n",
    "y2_interval = interval(0.0, 1)\n",
    "working_list, minimas = calculate_branch_bound(calculate_expression, y1_interval, y2_interval, N)\n",
    "#println(working_list)\n",
    "# midpoints = [(mean(y1), mean(y2)) for (y1, y2) in working_list]\n",
    "# println(midpoints)\n",
    "# Calculate midpoints for y1 and y2 separately\n",
    "# y1_mid = [mid(y[1]) for y in working_list]  \n",
    "# y2_mid = [mid(y[2]) for y in working_list]  \n",
    "\n",
    "#println(y1_mid)\n",
    "#@show(y1_mid)\n",
    "# # Calculate radii (error) for y1 and y2 separately\n",
    "# y1_rad = [diam(y[1]) / 2 for y in Ys]  # Diameter divided by 2 for the first interval\n",
    "# y2_rad = [diam(y[2]) / 2 for y in Ys]  \n",
    "\n",
    "# Create arrays for x1 and x2\n",
    "# x11 = 0.333 * ones(size(y1_mid))  # Constant x1\n",
    "# x21 = 0.667 * ones(size(y2_mid))  # Constant x2\n",
    "\n",
    "# Plot y1 and y2 with error bars\n",
    "#plot(x11, y1_mid, legend=false, xlabel=\"x\", ylabel=\"y\", xlimits=(0, 1), ylimits=(0, 1))\n",
    "\n",
    "# Plot y1 and y2 with error bars\n",
    "# plot(x11, y1, yerror=y1_rad, legend=false,xlimits=(0, 1), ylimits=(0, 1))\n",
    "# plot(x21, y2, yerror=y2_rad, legend=false,xlimits=(0, 1), ylimits=(0, 1))"
   ]
  },
  {
   "cell_type": "code",
   "execution_count": 11,
   "metadata": {},
   "outputs": [
    {
     "data": {
      "text/plain": [
       "[0.596001, 0.597564]_com_NG"
      ]
     },
     "metadata": {},
     "output_type": "display_data"
    }
   ],
   "source": [
    "s = calculate_expression(interval(0.36621, 0.367188), interval(0.152343, 0.154297))"
   ]
  }
 ],
 "metadata": {
  "kernelspec": {
   "display_name": "Julia 1.11.3",
   "language": "julia",
   "name": "julia-1.11"
  },
  "language_info": {
   "file_extension": ".jl",
   "mimetype": "application/julia",
   "name": "julia",
   "version": "1.11.3"
  }
 },
 "nbformat": 4,
 "nbformat_minor": 2
}
