{
 "cells": [
  {
   "cell_type": "code",
   "execution_count": 1,
   "metadata": {},
   "outputs": [],
   "source": [
    "using IntervalArithmetic,IntervalBoxes,IntervalArithmetic.Symbols,Plots"
   ]
  },
  {
   "cell_type": "code",
   "execution_count": 2,
   "metadata": {},
   "outputs": [
    {
     "data": {
      "text/plain": [
       "calculate_expression (generic function with 1 method)"
      ]
     },
     "metadata": {},
     "output_type": "display_data"
    }
   ],
   "source": [
    "x1 = 1 / 4\n",
    "x2 = 2 / 4\n",
    "x3 = 3 / 4\n",
    "h = 1\n",
    "g = 9.8\n",
    "function calculate_expression(y1::Interval{T}, y2::Interval{T}, y3::Interval{T}) where T\n",
    "    term1 = sqrt(x1^2 + (y1 - h)^2) / sqrt(2 * g * (h - y1))\n",
    "    term2 = sqrt((x1 - x2)^2 + (y1 - y2)^2) / (sqrt(2 * g * (h - y1)) + sqrt(2 * g * (h - y2)))\n",
    "    term3 = sqrt((y2 - y3)^2 + (x2 - x3)^2) / (sqrt(2 * g * (h - y2)) + sqrt(2 * g * (h - y3)))\n",
    "    term4 = sqrt(y3^2 + (x3 - h)^2) / (sqrt(2 * g * (h - y3)) + sqrt(2 * g * h))\n",
    "    return 2*(term1 + term2 + term3 + term4)\n",
    "end"
   ]
  },
  {
   "cell_type": "code",
   "execution_count": 3,
   "metadata": {},
   "outputs": [
    {
     "data": {
      "text/plain": [
       "calculate_branch_bound (generic function with 1 method)"
      ]
     },
     "metadata": {},
     "output_type": "display_data"
    }
   ],
   "source": [
    "\n",
    "# Define the branch-and-bound function\n",
    "function calculate_branch_bound(f, Y1::Interval{T}, Y2::Interval{T}, Y3::Interval{T}, N) where T\n",
    "    interval_lists = [[Y1, Y2, Y3]]\n",
    "    upper_bound = sup(f(Y1..., Y2..., Y3...))\n",
    "    upper_bounds = [upper_bound]\n",
    "    working_list = [(Y1..., Y2..., Y3...)]\n",
    "\n",
    "    for i in 1:N\n",
    "        if isempty(working_list)\n",
    "            break\n",
    "        end\n",
    "        \n",
    "        # Pop the first interval pair\n",
    "        (current_Y1, current_Y2, current_Y3) = popfirst!(working_list)\n",
    "\n",
    "        # Update the upper bound\n",
    "        upper_bound = min(upper_bound, sup(f(interval(mid(current_Y1))..., interval(mid(current_Y2))..., interval(mid(current_Y3)))))\n",
    "        # Check if we can bisect\n",
    "        if inf(f(current_Y1..., current_Y2..., current_Y3)) <= upper_bound\n",
    "            if(diam(current_Y1)>= diam(current_Y2) && diam(current_Y1)>= diam(current_Y3))\n",
    "                if(diam(current_Y1)>=0.0001)\n",
    "                    S = bisect(current_Y1)\n",
    "                    push!(working_list, (S[1],current_Y2,current_Y3), (S[2],current_Y2,current_Y3))\n",
    "                else\n",
    "                    push!(working_list,(current_Y1,current_Y2))\n",
    "                end\n",
    "            elseif(diam(current_Y2)>= diam(current_Y1) && diam(current_Y2)>= diam(current_Y3))\n",
    "                if(diam(current_Y2)>=0.0001)\n",
    "                    S1 = bisect(current_Y2)\n",
    "                    push!(working_list, (current_Y1,S1[1],current_Y3), (current_Y1,S1[2],current_Y3))\n",
    "                else\n",
    "                    push!(working_list,(current_Y1,current_Y2))\n",
    "                end\n",
    "            else\n",
    "                if(diam(current_Y3)>=0.0001)\n",
    "                    S2 = bisect(current_Y3)\n",
    "                    push!(working_list, (current_Y1,current_Y2,S2[1]), (current_Y1,current_Y2,S2[2]))\n",
    "                else\n",
    "                    push!(working_list,(current_Y1,current_Y2))\n",
    "                end\n",
    "            end\n",
    "        end\n",
    "\n",
    "        # Store the current intervals and upper bounds\n",
    "        #push!(interval_lists, copy(working_list))\n",
    "        push!(upper_bounds, upper_bound)\n",
    "    end\n",
    "\n",
    "    return working_list, upper_bounds\n",
    "end\n",
    "\n"
   ]
  },
  {
   "cell_type": "code",
   "execution_count": null,
   "metadata": {},
   "outputs": [],
   "source": [
    "\n",
    "# # Define the branch-and-bound function\n",
    "# function calculate_branch_bound(f, Y1::Interval{T}, Y2::Interval{T}, Y3::Interval{T}) where T\n",
    "#     interval_lists = [[Y1, Y2, Y3]]\n",
    "#     upper_bound = sup(f(Y1..., Y2..., Y3...))\n",
    "#     upper_bounds = [upper_bound]\n",
    "#         # Update the upper bound\n",
    "#         upper_bound = min(upper_bound, sup(f(Y1..., Y2..., Y3)))\n",
    "#         # Check if we can bisect\n",
    "#         if inf(f(Y1..., Y2..., Y3)) <= upper_bound\n",
    "#             if(diam(Y1)>= diam(Y2) && diam(Y1)>= diam(Y3))\n",
    "#                 if(diam(Y1)>=0.006)\n",
    "#                     S = bisect(Y1)\n",
    "#                     calculate_branch_bound(calculate_expression,S[1],Y2,Y3)\n",
    "#                     calculate_branch_bound(calculate_expression,S[2],Y2,Y3)\n",
    "#                     #push!(working_list, (S[1],current_Y2,current_Y3), (S[2],current_Y2,current_Y3))\n",
    "#                 else\n",
    "#                     push!(working_list,(Y1,Y2,Y3))\n",
    "#                     break\n",
    "#                 end\n",
    "#             elseif(diam(Y2)>= diam(Y1) && diam(Y2)>= diam(Y3))\n",
    "#                 if(diam(Y2)>=0.006)\n",
    "#                     S1 = bisect(Y2)\n",
    "#                     calculate_branch_bound(calculate_expression,Y1,S1[1],Y3)\n",
    "#                     calculate_branch_bound(calculate_expression,Y1,S1[2],Y3)\n",
    "#                     #push!(working_list, (current_Y1,S1[1],current_Y3), (current_Y1,S1[2],current_Y3))\n",
    "#                 else\n",
    "#                     push!(working_list,(Y1,Y2,Y3))\n",
    "#                     break\n",
    "#                 end\n",
    "#             elseif(diam(Y3)>=0.006)\n",
    "#                     S2 = bisect(Y3)\n",
    "#                     calculate_branch_bound(calculate_expression,Y1,Y2,S2[1])\n",
    "#                     calculate_branch_bound(calculate_expression,Y1,Y2,S2[2])\n",
    "#                     #push!(working_list, (current_Y1,current_Y2,S2[1]), (current_Y1,current_Y2,S2[2]))\n",
    "#                 else\n",
    "#                     push!(working_list,(Y1,Y2,Y3))\n",
    "#                     break\n",
    "#                 end\n",
    "#             end\n",
    "#         end\n",
    "\n",
    "#         # Store the current intervals and upper bounds\n",
    "#         #push!(interval_lists, copy(working_list))\n",
    "#         push!(upper_bounds, upper_bound)\n",
    "#     end\n",
    "\n",
    "#     return working_list, upper_bounds\n",
    "# end\n",
    "\n"
   ]
  },
  {
   "cell_type": "code",
   "execution_count": null,
   "metadata": {},
   "outputs": [],
   "source": [
    "function calculate_branch_bound(f, Y1::Interval{T}, Y2::Interval{T}, Y3::Interval{T}) where T\n",
    "    interval_lists = [[Y1, Y2, Y3]]\n",
    "    upper_bound = sup(f(Y1..., Y2..., Y3...))\n",
    "    upper_bounds = [upper_bound]\n",
    "    working_list = [(Y1..., Y2..., Y3...)]\n",
    "\n",
    "    while !isempty(working_list)\n",
    "        (current_Y1, current_Y2, current_Y3) = popfirst!(working_list)\n",
    "        upper_bound = min(upper_bound, sup(f(current_Y1..., current_Y2..., current_Y3...)))\n",
    "        if inf(f(current_Y1..., current_Y2..., current_Y3...)) <= upper_bound\n",
    "            if diam(current_Y1) <= 0.0004 && diam(current_Y2) <= 0.0004 && diam(current_Y3) <= 0.0004\n",
    "                push!(working_list, (current_Y1, current_Y2, current_Y3))\n",
    "                push!(upper_bounds, upper_bound)\n",
    "                break \n",
    "            elseif (diam(current_Y1)>= diam(current_Y2) && diam(current_Y1)>= diam(current_Y3)) && diam(current_Y1) >= 0.0004\n",
    "                S = bisect(current_Y1)\n",
    "                push!(working_list, (S[1], current_Y2, current_Y3), (S[2], current_Y2, current_Y3))\n",
    "            elseif (diam(current_Y2)>= diam(current_Y1)) && diam(current_Y2)>= diam(current_Y3) && diam(current_Y2) >= 0.0004\n",
    "                S1 = bisect(current_Y2)\n",
    "                push!(working_list, (current_Y1, S1[1], current_Y3), (current_Y1, S1[2], current_Y3))\n",
    "            elseif diam(current_Y3) >= 0.0004\n",
    "                S2 = bisect(current_Y3)\n",
    "                push!(working_list, (current_Y1, current_Y2, S2[1]), (current_Y1, current_Y2, S2[2]))\n",
    "            else\n",
    "                push!(working_list, (current_Y1, current_Y2, current_Y3))\n",
    "            end\n",
    "        end\n",
    "\n",
    "        # Store the current intervals and upper bounds\n",
    "        push!(upper_bounds, upper_bound)\n",
    "    end\n",
    "\n",
    "    return working_list, upper_bounds\n",
    "end"
   ]
  },
  {
   "cell_type": "code",
   "execution_count": 4,
   "metadata": {},
   "outputs": [
    {
     "data": {
      "text/plain": [
       "(Tuple{Interval{Float64}, Interval{Float64}, Interval{Float64}}[([0.404296, 0.406251]_com, [0.234374, 0.238282]_com, [0.0976562, 0.101563]_com), ([0.402343, 0.404297]_com, [0.238281, 0.242188]_com, [0.0937499, 0.0976563]_com), ([0.404296, 0.406251]_com, [0.238281, 0.242188]_com, [0.0937499, 0.0976563]_com), ([0.402343, 0.404297]_com, [0.238281, 0.242188]_com, [0.0976562, 0.101563]_com), ([0.404296, 0.406251]_com, [0.238281, 0.242188]_com, [0.0976562, 0.101563]_com), ([0.398437, 0.400391]_com, [0.234374, 0.238282]_com, [0.101562, 0.105469]_com), ([0.40039, 0.402344]_com, [0.234374, 0.238282]_com, [0.101562, 0.105469]_com), ([0.398437, 0.400391]_com, [0.234374, 0.238282]_com, [0.105468, 0.109376]_com), ([0.40039, 0.402344]_com, [0.234374, 0.238282]_com, [0.105468, 0.109376]_com), ([0.398437, 0.400391]_com, [0.238281, 0.242188]_com, [0.101562, 0.105469]_com)  …  ([0.398437, 0.400391]_com, [0.238281, 0.240235]_com, [0.0976562, 0.101563]_com), ([0.398437, 0.400391]_com, [0.240234, 0.242188]_com, [0.0976562, 0.101563]_com), ([0.40039, 0.402344]_com, [0.238281, 0.240235]_com, [0.0976562, 0.101563]_com), ([0.40039, 0.402344]_com, [0.240234, 0.242188]_com, [0.0976562, 0.101563]_com), ([0.402343, 0.404297]_com, [0.234374, 0.236329]_com, [0.0937499, 0.0976563]_com), ([0.402343, 0.404297]_com, [0.236328, 0.238282]_com, [0.0937499, 0.0976563]_com), ([0.404296, 0.406251]_com, [0.234374, 0.236329]_com, [0.0937499, 0.0976563]_com), ([0.404296, 0.406251]_com, [0.236328, 0.238282]_com, [0.0937499, 0.0976563]_com), ([0.402343, 0.404297]_com, [0.234374, 0.236329]_com, [0.0976562, 0.101563]_com), ([0.402343, 0.404297]_com, [0.236328, 0.238282]_com, [0.0976562, 0.101563]_com)], [Inf, 0.6647954135260905, 0.6647954135260905, 0.6647954135260905, 0.6647954135260905, 0.6647954135260905, 0.6647954135260905, 0.6647954135260905, 0.6283964119879386, 0.6283964119879386  …  0.5929443599014221, 0.5929443599014221, 0.5929443599014221, 0.5929443599014221, 0.5929443599014221, 0.5929443599014221, 0.5929443599014221, 0.5929443599014221, 0.5929443599014221, 0.5929443599014221])"
      ]
     },
     "metadata": {},
     "output_type": "display_data"
    }
   ],
   "source": [
    "N = 200000\n",
    "y1_interval = interval(0.0, 1)\n",
    "y2_interval = interval(0.0, 1)\n",
    "y3_interval = interval(0.0, 1)\n",
    "working_list, minimas = calculate_branch_bound(calculate_expression, y1_interval, y2_interval,y3_interval, N)\n",
    "#working_list, minimas = calculate_branch_bound(calculate_expression, y1_interval, y2_interval,y3_interval)"
   ]
  },
  {
   "cell_type": "code",
   "execution_count": 37,
   "metadata": {},
   "outputs": [
    {
     "name": "stdout",
     "output_type": "stream",
     "text": [
      "[0.592065, 0.595677]_com_NG\n"
     ]
    }
   ],
   "source": [
    "begin\n",
    "    z = calculate_expression(interval((0.402343, 0.404297)),interval((0.236328, 0.238282)),interval((0.0976562, 0.101563)))\n",
    "    println(z)\n",
    "end"
   ]
  }
 ],
 "metadata": {
  "kernelspec": {
   "display_name": "Julia 1.11.3",
   "language": "julia",
   "name": "julia-1.11"
  },
  "language_info": {
   "file_extension": ".jl",
   "mimetype": "application/julia",
   "name": "julia",
   "version": "1.11.3"
  }
 },
 "nbformat": 4,
 "nbformat_minor": 2
}
