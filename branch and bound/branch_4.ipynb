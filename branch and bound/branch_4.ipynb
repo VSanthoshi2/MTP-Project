{
 "cells": [
  {
   "cell_type": "code",
   "execution_count": 1,
   "metadata": {},
   "outputs": [],
   "source": [
    "using IntervalArithmetic,IntervalBoxes,IntervalArithmetic.Symbols,Plots"
   ]
  },
  {
   "cell_type": "code",
   "execution_count": 2,
   "metadata": {},
   "outputs": [
    {
     "data": {
      "text/plain": [
       "calculate_expression (generic function with 1 method)"
      ]
     },
     "metadata": {},
     "output_type": "display_data"
    }
   ],
   "source": [
    "x1 = 1 / 5\n",
    "x2 = 2 / 5\n",
    "x3 = 3 / 5\n",
    "x4 = 4 / 5\n",
    "h = 1\n",
    "g = 9.8\n",
    "function calculate_expression(y1::Interval{T}, y2::Interval{T}, y3::Interval{T}, y4::Interval{T}) where T\n",
    "    term1 = sqrt(x1^2 + (y1 - h)^2) / sqrt(2 * g * (h - y1))\n",
    "    term2 = sqrt((x1 - x2)^2 + (y1 - y2)^2) / (sqrt(2 * g * (h - y1)) + sqrt(2 * g * (h - y2)))\n",
    "    term3 = sqrt((y2 - y3)^2 + (x2 - x3)^2) / (sqrt(2 * g * (h - y2)) + sqrt(2 * g * (h - y3)))\n",
    "    term4 = sqrt((y3 - y4)^2 + (x3 - x4)^2) / (sqrt(2 * g * (h - y3)) + sqrt(2 * g * (h - y4)))\n",
    "    term5 =  sqrt(y4^2 + (x4 - h)^2) / (sqrt(2 * g * (h - y4)) + sqrt(2 * g * h))\n",
    "    return 2*(term1 + term2 + term3 + term4 + term5)\n",
    "end"
   ]
  },
  {
   "cell_type": "code",
   "execution_count": null,
   "metadata": {},
   "outputs": [
    {
     "data": {
      "text/plain": [
       "calculate_branch_bound (generic function with 2 methods)"
      ]
     },
     "metadata": {},
     "output_type": "display_data"
    }
   ],
   "source": [
    "function calculate_branch_bound(f, Y1::Interval{T}, Y2::Interval{T}, Y3::Interval{T}, Y4::Interval{T}) where T\n",
    "    interval_lists = [[Y1, Y2, Y3, Y4]]\n",
    "    upper_bound = sup(f(Y1..., Y2..., Y3..., Y4...))\n",
    "    upper_bounds = [upper_bound]\n",
    "    working_list = [(Y1..., Y2..., Y3..., Y4...)]\n",
    "    while !isempty(working_list)\n",
    "        (current_Y1, current_Y2, current_Y3, current_Y4) = popfirst!(working_list)\n",
    "        if diam(current_Y1) <= 0.005 && diam(current_Y2) <= 0.005 && diam(current_Y3) <= 0.001 && diam(current_Y4) <= 0.005\n",
    "            push!(working_list, (current_Y1, current_Y2, current_Y3, current_Y4))\n",
    "            #push!(solution, (current_Y1, current_Y2, current_Y3, current_Y4))\n",
    "            break\n",
    "        end\n",
    "        upper_bound = min(upper_bound, sup(f(interval(mid(current_Y1))..., interval(mid(current_Y2))..., interval(mid(current_Y3))..., interval(mid(current_Y4))...)))\n",
    "        if inf(f(current_Y1..., current_Y2..., current_Y3..., current_Y4)) <= upper_bound\n",
    "            if(diam(current_Y1)>= diam(current_Y2) && diam(current_Y1)>= diam(current_Y3) && diam(current_Y1)>= diam(current_Y4)) && diam(current_Y1) >= 0.005\n",
    "                S = bisect(current_Y1)\n",
    "                push!(working_list, (S[1], current_Y2, current_Y3, current_Y4), (S[2], current_Y2, current_Y3, current_Y4))\n",
    "            elseif (diam(current_Y2)>= diam(current_Y1)) && diam(current_Y2)>= diam(current_Y3) && diam(current_Y2) >= diam(current_Y4) && diam(current_Y2) >= 0.005\n",
    "                S1 = bisect(current_Y2)\n",
    "                push!(working_list, (current_Y1, S1[1], current_Y3, current_Y4), (current_Y1, S1[2], current_Y3, current_Y4))\n",
    "            elseif diam(current_Y3)>= diam(current_Y4) && diam(current_Y3) >= 0.005\n",
    "                S2 = bisect(current_Y3)\n",
    "                push!(working_list, (current_Y1, current_Y2, S2[1], current_Y4), (current_Y1, current_Y2, S2[2], current_Y4))\n",
    "            elseif diam(current_Y4) >= 0.005\n",
    "                S3 = bisect(current_Y4)\n",
    "                push!(working_list, (current_Y1, current_Y2,current_Y3, S3[1]), (current_Y1, current_Y2,current_Y3, S3[2]))\n",
    "            else\n",
    "                push!(working_list, (current_Y1, current_Y2, current_Y3, current_Y4))\n",
    "            end\n",
    "        end\n",
    "        push!(upper_bounds, upper_bound)\n",
    "    end\n",
    "\n",
    "    return working_list, upper_bounds, solution\n",
    "end"
   ]
  },
  {
   "cell_type": "code",
   "execution_count": 3,
   "metadata": {},
   "outputs": [
    {
     "data": {
      "text/plain": [
       "calculate_branch_bound (generic function with 1 method)"
      ]
     },
     "metadata": {},
     "output_type": "display_data"
    }
   ],
   "source": [
    "function calculate_branch_bound(f, Y1::Interval{T}, Y2::Interval{T}, Y3::Interval{T}, Y4::Interval{T}, N) where T\n",
    "    interval_lists = [[Y1, Y2, Y3, Y4]]\n",
    "    upper_bound = sup(f(Y1..., Y2..., Y3..., Y4...))\n",
    "    upper_bounds = [upper_bound]\n",
    "    working_list = [(Y1..., Y2..., Y3..., Y4...)]\n",
    "    for i in 1:N\n",
    "        if isempty(working_list)\n",
    "            break\n",
    "        end\n",
    "        (current_Y1, current_Y2, current_Y3, current_Y4) = popfirst!(working_list)\n",
    "\n",
    "        #upper_bound = min(upper_bound, sup(f(current_Y1..., current_Y2..., current_Y3..., current_Y4...)))\n",
    "        upper_bound = min(upper_bound, sup(f(interval(mid(current_Y1))..., interval(mid(current_Y2))..., interval(mid(current_Y3))..., interval(mid(current_Y4))...)))\n",
    "        if inf(f(current_Y1..., current_Y2..., current_Y3..., current_Y4)) <= upper_bound\n",
    "            if(diam(current_Y1)>= diam(current_Y2) && diam(current_Y1)>= diam(current_Y3) && diam(current_Y1)>= diam(current_Y4)) && diam(current_Y1) >= 0.001\n",
    "                S = bisect(current_Y1)\n",
    "                push!(working_list, (S[1], current_Y2, current_Y3, current_Y4), (S[2], current_Y2, current_Y3, current_Y4))\n",
    "            elseif (diam(current_Y2)>= diam(current_Y1)) && diam(current_Y2)>= diam(current_Y3) && diam(current_Y2) >= diam(current_Y4) && diam(current_Y2) >= 0.001\n",
    "                S1 = bisect(current_Y2)\n",
    "                push!(working_list, (current_Y1, S1[1], current_Y3, current_Y4), (current_Y1, S1[2], current_Y3, current_Y4))\n",
    "            elseif diam(current_Y3)>= diam(current_Y4) && diam(current_Y3) >= 0.001\n",
    "                S2 = bisect(current_Y3)\n",
    "                push!(working_list, (current_Y1, current_Y2, S2[1], current_Y4), (current_Y1, current_Y2, S2[2], current_Y4))\n",
    "            elseif diam(current_Y4) >= 0.001\n",
    "                S3 = bisect(current_Y4)\n",
    "                push!(working_list, (current_Y1, current_Y2,current_Y3, S3[1]), (current_Y1, current_Y2,current_Y3, S3[2]))\n",
    "            else\n",
    "                push!(working_list, (current_Y1, current_Y2, current_Y3, current_Y4))\n",
    "            end\n",
    "        end\n",
    "\n",
    "        push!(upper_bounds, upper_bound)\n",
    "    end\n",
    "    return working_list, upper_bounds\n",
    "end"
   ]
  },
  {
   "cell_type": "code",
   "execution_count": 4,
   "metadata": {},
   "outputs": [
    {
     "data": {
      "text/plain": [
       "(NTuple{4, Interval{Float64}}[([0.578124, 0.585938]_com, [0.367187, 0.375001]_com, [0.218749, 0.226563]_com, [0.0703124, 0.0781251]_com), ([0.578124, 0.585938]_com, [0.367187, 0.375001]_com, [0.226562, 0.234376]_com, [0.0625, 0.0703126]_com), ([0.578124, 0.585938]_com, [0.367187, 0.375001]_com, [0.226562, 0.234376]_com, [0.0703124, 0.0781251]_com), ([0.585937, 0.593751]_com, [0.359374, 0.367188]_com, [0.218749, 0.226563]_com, [0.0625, 0.0703126]_com), ([0.585937, 0.593751]_com, [0.359374, 0.367188]_com, [0.218749, 0.226563]_com, [0.0703124, 0.0781251]_com), ([0.585937, 0.593751]_com, [0.359374, 0.367188]_com, [0.226562, 0.234376]_com, [0.0625, 0.0703126]_com), ([0.585937, 0.593751]_com, [0.359374, 0.367188]_com, [0.226562, 0.234376]_com, [0.0703124, 0.0781251]_com), ([0.585937, 0.593751]_com, [0.367187, 0.375001]_com, [0.218749, 0.226563]_com, [0.0625, 0.0703126]_com), ([0.585937, 0.593751]_com, [0.367187, 0.375001]_com, [0.218749, 0.226563]_com, [0.0703124, 0.0781251]_com), ([0.585937, 0.593751]_com, [0.367187, 0.375001]_com, [0.226562, 0.234376]_com, [0.0625, 0.0703126]_com)  …  ([0.578124, 0.582032]_com, [0.359374, 0.367188]_com, [0.218749, 0.226563]_com, [0.0625, 0.0703126]_com), ([0.582031, 0.585938]_com, [0.359374, 0.367188]_com, [0.218749, 0.226563]_com, [0.0625, 0.0703126]_com), ([0.578124, 0.582032]_com, [0.359374, 0.367188]_com, [0.218749, 0.226563]_com, [0.0703124, 0.0781251]_com), ([0.582031, 0.585938]_com, [0.359374, 0.367188]_com, [0.218749, 0.226563]_com, [0.0703124, 0.0781251]_com), ([0.578124, 0.582032]_com, [0.359374, 0.367188]_com, [0.226562, 0.234376]_com, [0.0625, 0.0703126]_com), ([0.582031, 0.585938]_com, [0.359374, 0.367188]_com, [0.226562, 0.234376]_com, [0.0625, 0.0703126]_com), ([0.578124, 0.582032]_com, [0.359374, 0.367188]_com, [0.226562, 0.234376]_com, [0.0703124, 0.0781251]_com), ([0.582031, 0.585938]_com, [0.359374, 0.367188]_com, [0.226562, 0.234376]_com, [0.0703124, 0.0781251]_com), ([0.578124, 0.582032]_com, [0.367187, 0.375001]_com, [0.218749, 0.226563]_com, [0.0625, 0.0703126]_com), ([0.582031, 0.585938]_com, [0.367187, 0.375001]_com, [0.218749, 0.226563]_com, [0.0625, 0.0703126]_com)], [Inf, 0.6782168656693079, 0.6782168656693079, 0.6782168656693079, 0.6782168656693079, 0.6782168656693079, 0.6782168656693079, 0.6782168656693079, 0.6782168656693079, 0.6782168656693079  …  0.590826338890523, 0.590826338890523, 0.590826338890523, 0.590826338890523, 0.590826338890523, 0.590826338890523, 0.590826338890523, 0.590826338890523, 0.590826338890523, 0.590826338890523])"
      ]
     },
     "metadata": {},
     "output_type": "display_data"
    }
   ],
   "source": [
    "y1_interval = interval(0.0, 1)\n",
    "y2_interval = interval(0.0, 1)\n",
    "y3_interval = interval(0.0, 1)\n",
    "y4_interval = interval(0.0, 1)\n",
    "N = 1000000\n",
    "working_list, minimas = calculate_branch_bound(calculate_expression, y1_interval, y2_interval,y3_interval, y4_interval, N)\n",
    "#working_list, minimas = calculate_branch_bound(calculate_expression, y1_interval, y2_interval, y3_interval, y4_interval)\n"
   ]
  },
  {
   "cell_type": "code",
   "execution_count": 46,
   "metadata": {},
   "outputs": [
    {
     "name": "stdout",
     "output_type": "stream",
     "text": [
      "[0.599658, 0.599659]_com_NG\n",
      "[0.58462, 0.67227]_com_NG\n",
      "[0.585756, 0.598993]_com_NG\n"
     ]
    }
   ],
   "source": [
    "begin\n",
    "    z = calculate_expression(interval(mid(0.328124, 0.343751)),interval(mid(0.187499, 0.203126)),interval(mid(0.0781249, 0.0937501)),interval(mid(0.03125, 0.0625)))\n",
    "    z1 = calculate_expression(interval(0.656249, 0.687501),interval(0.437499, 0.468751),interval(0.406249, 0.437501),interval(0.0, 0.0625))\n",
    "    z2 = calculate_expression(interval(0.578124, 0.582032),interval(0.359374, 0.367188),interval(0.218749, 0.226563),interval(0.0703124, 0.0781251))\n",
    "    println(z)\n",
    "    println(z1)\n",
    "    println(z2)\n",
    "end"
   ]
  }
 ],
 "metadata": {
  "kernelspec": {
   "display_name": "Julia 1.11.3",
   "language": "julia",
   "name": "julia-1.11"
  },
  "language_info": {
   "file_extension": ".jl",
   "mimetype": "application/julia",
   "name": "julia",
   "version": "1.11.3"
  }
 },
 "nbformat": 4,
 "nbformat_minor": 2
}
