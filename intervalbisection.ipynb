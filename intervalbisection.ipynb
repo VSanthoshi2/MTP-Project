{
 "cells": [
  {
   "cell_type": "code",
   "execution_count": 1,
   "metadata": {},
   "outputs": [],
   "source": [
    "#import Pkg; Pkg.add(\"IntervalBoxes\")"
   ]
  },
  {
   "cell_type": "markdown",
   "metadata": {},
   "source": [
    "# Interval Bisection Method"
   ]
  },
  {
   "cell_type": "code",
   "execution_count": 2,
   "metadata": {},
   "outputs": [],
   "source": [
    "using IntervalArithmetic, IntervalBoxes"
   ]
  },
  {
   "cell_type": "code",
   "execution_count": 14,
   "metadata": {},
   "outputs": [
    {
     "name": "stdout",
     "output_type": "stream",
     "text": [
      "[0.5, 0.5]\n"
     ]
    }
   ],
   "source": [
    "begin\n",
    "\n",
    "    function IntervalBisection(Xtemp)\n",
    "\n",
    "\n",
    "        if in_interval(0, f(Xtemp...)[1]) && in_interval(0, f(Xtemp...)[2])\n",
    "\n",
    "            if diam(Xtemp) > 0.0001\n",
    "                Y = bisect(Xtemp);\n",
    "\n",
    "                IntervalBisection(Y[1]);\n",
    "\n",
    "                IntervalBisection(Y[2]);\n",
    "            else\n",
    "                push!(solution, Xtemp);\n",
    "\n",
    "            end\n",
    "\n",
    "        else\n",
    "            return\n",
    "        end\n",
    "    end\n",
    "\n",
    "     f(x, y) = [(2^(1/2)*x)/((x^2 + (h - y)^2)^(1/2)*(g*(h - y))^(1/2)) - \n",
    "     (2*h - 2*x)/((2^(1/2)*(g*h)^(1/2) + 2^(1/2)*(g*(h - y))^(1/2))*(y^2 + (h - x)^2)^(1/2)) ,  (2*y)/((2^(1/2)*(g*h)^(1/2) + 2^(1/2)*(g*(h - y))^(1/2))*(y^2 + (h - x)^2)^(1/2)) - \n",
    "     (2^(1/2)*(2*h - 2*y))/(2*(x^2 + (h - y)^2)^(1/2)*(g*(h - y))^(1/2)) +\n",
    "     (2^(1/2)*g*(x^2 + (h - y)^2)^(1/2))/(2*(g*(h - y))^(3/2)) + (2^(1/2)*g*(y^2 + (h - x)^2)^(1/2))/((2^(1/2)*(g*h)^(1/2) + 2^(1/2)*(g*(h - y))^(1/2))^2*(g*(h - y))^(1/2))]\n",
    "    \n",
    "    #f(x, y) = [x, sqrt(4*y)]\n",
    "    g = 9.8\n",
    "\n",
    "    h = 1\n",
    "\n",
    "    X0 = interval(0, h) × interval(0, h)\n",
    "\n",
    "    local solution = [];\n",
    "    x1 = mid(X0)\n",
    "    println(x1)\n",
    "    IntervalBisection(X0);\n",
    "    solution\n",
    "    x1 = mid.(solution)\n",
    "    x1 = vcat([[0.0, 1.0]], x1, [[1.0, 0.0]])\n",
    "\n",
    "    open(\"mydata1.txt\", \"w\") do io\n",
    "        for point in x1\n",
    "            println(io, \"$(point[1]) $(point[2])\")\n",
    "        end\n",
    "    end\n",
    "\n",
    "end"
   ]
  },
  {
   "cell_type": "code",
   "execution_count": null,
   "metadata": {},
   "outputs": [],
   "source": [
    "f1(x,y) = x*sqrt((x-h)^2 + y^2) * sqrt(2*g*y) +x1*sqrt((x-h)^2 + y^2) * sqrt(2*g*(h-y)) + x*sqrt(x^2 + (y-h)^2) * sqrt(2*g*(h-y)) - h*sqrt(x^2 + (y-h)^2)*sqrt(2*g*(h-y))\n",
    "\n",
    "f2(x,y) = ( sqrt(2*g*(h-y)) * (0.5 / sqrt(x^2 + (y-h)^2)) * (2*(y-h)) - sqrt(x^2 + (y-h)^2) * sqrt(2*g*(h-y)) ) / (2*g*(h-y)) +\n",
    "((sqrt(2*g*y) + sqrt(2*g*(h-y))) * (y / sqrt((x-h)^2 + y^2)) - (sqrt((x-h)^2 +y^2)) * (1/sqrt(2*g*y) - 1/sqrt(2*g*(h-y)))) / (sqrt(2*g*y) + sqrt(2*g*(h-y)))^2"
   ]
  }
 ],
 "metadata": {
  "kernelspec": {
   "display_name": "Julia 1.11.3",
   "language": "julia",
   "name": "julia-1.11"
  },
  "language_info": {
   "file_extension": ".jl",
   "mimetype": "application/julia",
   "name": "julia",
   "version": "1.11.3"
  }
 },
 "nbformat": 4,
 "nbformat_minor": 2
}
